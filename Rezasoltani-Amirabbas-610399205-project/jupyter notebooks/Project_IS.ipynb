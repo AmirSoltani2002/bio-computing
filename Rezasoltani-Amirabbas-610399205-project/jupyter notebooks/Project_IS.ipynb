{
 "cells": [
  {
   "cell_type": "markdown",
   "id": "14c3757e",
   "metadata": {},
   "source": [
    "## Solving CVRP with Immune System (IS)"
   ]
  },
  {
   "cell_type": "markdown",
   "id": "38ef308b",
   "metadata": {},
   "source": [
    "## Importing Packages"
   ]
  },
  {
   "cell_type": "code",
   "execution_count": 17,
   "id": "995bdf83",
   "metadata": {},
   "outputs": [],
   "source": [
    "import numpy as np\n",
    "import pandas as pd\n",
    "import time"
   ]
  },
  {
   "cell_type": "markdown",
   "id": "bbfb5a9f",
   "metadata": {},
   "source": [
    "## Immune Class to Perform Immune System Algorithm "
   ]
  },
  {
   "cell_type": "code",
   "execution_count": 28,
   "id": "904b3f7d",
   "metadata": {},
   "outputs": [],
   "source": [
    "class Immune:\n",
    "    #Number of population members\n",
    "    n_pop = 5\n",
    "    #Number of customers\n",
    "    n_cust = 0\n",
    "    #Coefficiet, used for mutation operation probability\n",
    "    p_mutation2 = -1/9\n",
    "    #Number of vehicles\n",
    "    n_vehicle = 0\n",
    "    #Capacity of vehicles\n",
    "    capacity = 0\n",
    "    #Array of Answer\n",
    "    pop = np.array([])\n",
    "    #best overall solution\n",
    "    best_s = np.array([])\n",
    "    #best overall cost\n",
    "    best_cost = 0 \n",
    "    #limits of iteration (number of iteraton which best cost remains constant)\n",
    "    iteration_limit = 2000\n",
    "    \n",
    "    # Reading data and initilizing variables\n",
    "    def __init__(self, directory, start_line, end_line, end_demand_line, end_file, capacity, n_vehicle):\n",
    "        '''\n",
    "            directory: directory of file\n",
    "            start_line: number of line to start reading location of customers\n",
    "            end_line: number of line to finith reading location of customers\n",
    "            end_demand_line: number of line to finith reading demand of customers\n",
    "            end_file: line of EOF\n",
    "            capacity: capacity of each vehicle\n",
    "            n_vehicle: number of vehicles\n",
    "        '''\n",
    "        self.data = pd.read_csv(directory, sep = ' ', skipinitialspace = True, names = ['CUST', 'X', 'Y'],\\\n",
    "                                index_col = 'CUST',  skiprows = lambda x: x in range(start_line) or\\\n",
    "                                x in range(end_line, end_file))\n",
    "        demand = pd.read_csv(directory, sep = ' ', skipinitialspace = True, names = ['CUST', 'D'],\\\n",
    "                             index_col = 'CUST',  skiprows = lambda x: x in range(end_line + 1) or\\\n",
    "                             x in range(end_demand_line, end_file))\n",
    "        self.data = self.data.merge(right = demand, on = 'CUST')\n",
    "        self.n_cust = self.data.shape[0]\n",
    "        self.best_cost = self.energy(self.best_s)\n",
    "        self.n_vehicle = n_vehicle\n",
    "        self.capacity = capacity\n",
    "    \n",
    "    #Initilizing population\n",
    "    def init_pop(self):\n",
    "        for k in range(self.n_pop):\n",
    "            pop = np.array([])\n",
    "            checked = [0 for i in range(self.data.shape[0])]\n",
    "            first_row = self.data.loc[1]\n",
    "            first_row = first_row.to_frame().T\n",
    "            self.data = self.data.loc[np.random.permutation(np.arange(2, self.data.shape[0]+1))]\n",
    "            self.data = pd.concat([first_row, self.data], ignore_index = False)\n",
    "            for j in range(self.n_vehicle):\n",
    "                c = 0\n",
    "                for i in range(self.data.shape[0]):\n",
    "                    if ((self.data.iloc[i]['D'] + c) <= self.capacity) and (checked[i] == 0 or i == 0):\n",
    "                        c += self.data.iloc[i]['D']\n",
    "                        pop = np.append(pop, int(self.data.iloc[i].name))\n",
    "                        checked[i] = 1\n",
    "            pop = np.append(pop, 1)\n",
    "            self.add_pop(pop)\n",
    "        self.data.index.names = ['CUST']\n",
    "        self.sort_pop()\n",
    "       \n",
    "    #Add array to population\n",
    "    def add_pop(self, pop):\n",
    "        '''\n",
    "            pop: array, that will be added to population\n",
    "        '''\n",
    "        energy = self.energy(pop)\n",
    "        pop = np.append(pop, energy)\n",
    "        if self.pop.size != 0:\n",
    "            self.pop = np.append(self.pop, np.reshape(pop, (1, -1)), axis = 0)\n",
    "        else:\n",
    "            self.pop = np.reshape(pop, (1, -1)).copy()\n",
    "        if self.best_cost == 0 or self.best_cost > energy:\n",
    "            self.best_s = pop\n",
    "            self.best_cost = energy\n",
    "    \n",
    "    #Sort population based on their cost in ascending order\n",
    "    def sort_pop(self):\n",
    "        self.pop = self.pop[self.pop[:, self.pop.shape[1]-1].argsort()]\n",
    "\n",
    "    #Copy from arrays based on their cost (bigger costs, have less copies) and perform mutation on\n",
    "    #based on their costs\n",
    "    def copy(self):\n",
    "        self.sort_pop()\n",
    "        for i in range(self.n_pop):\n",
    "            for j in range(self.n_pop - i):\n",
    "                new = self.pop[i][:self.pop.shape[1]-1].copy()\n",
    "                if np.random.uniform(0, 1) < np.exp(self.p_mutation2 * (self.n_pop - i)):\n",
    "                    new = self.mutation(new)\n",
    "                self.add_pop(new)\n",
    "    \n",
    "    #Select new generation among copies and original arrays\n",
    "    def select(self):\n",
    "        selected = np.random.choice(np.arange(self.n_pop+3), self.n_pop, replace = False)\n",
    "        self.sort_pop()\n",
    "        self.pop = self.pop[selected]\n",
    "        self.sort_pop()\n",
    "    \n",
    "    #Mutation operator on generated copies, returns the manipulated array\n",
    "    def mutation(self, array):\n",
    "        '''\n",
    "            array: array, pass to function to perform mutation that\n",
    "        '''\n",
    "        cities = np.random.randint(2, self.data.shape[0]+1, 1)\n",
    "        i = 0\n",
    "        j = 0\n",
    "        while i < 1:\n",
    "            new = array[array != cities[i]]\n",
    "            idx = np.random.randint(1, len(array)-1, 1)\n",
    "            new = np.insert(new, idx, cities[i])\n",
    "            if self.check_cap(new):\n",
    "                array = new\n",
    "                i += 1\n",
    "        return array\n",
    "    \n",
    "    #Check capacity constraint, returns True if constraints are observed\n",
    "    def check_cap(self, array):\n",
    "        '''\n",
    "            array: array of answer, pass to function to be checked for capacity constraint\n",
    "        '''\n",
    "        c = 0\n",
    "        for i in range(len(array)):\n",
    "            if array[i] == 1:\n",
    "                c = 0\n",
    "            else:\n",
    "                c += self.data.loc[array[i], 'D']\n",
    "            if c > self.capacity:\n",
    "                #print(c)\n",
    "                return False\n",
    "        return True\n",
    "    \n",
    "    #Find distance every 2 consecutive cities in a rout and return this distance concated to destination\n",
    "    def find_dis(self, array):\n",
    "        '''\n",
    "            array: array of answer, pass to function to the distances in consecutive cities\n",
    "        '''\n",
    "        positions1 = self.data.loc[array[:-1], ['X', 'Y']].reset_index()\n",
    "        positions2 = self.data.loc[array[1:], ['X', 'Y']].reset_index()\n",
    "        positions2['dis'] = np.sqrt((positions1['X'] - positions2['X']) ** 2 +\\\n",
    "                                    (positions1['Y'] - positions2['Y']) ** 2)\n",
    "        return positions2\n",
    "    \n",
    "    #Cost function\n",
    "    def energy(self, array):\n",
    "        '''\n",
    "            array: array of answer, pass to function to calculate its cost\n",
    "        '''\n",
    "        return np.sum(self.find_dis(array)['dis'])\n",
    "    \n",
    "    #Function to combine all steps and calculate the optimal answer along with its cost\n",
    "    def play(self):\n",
    "        self.init_pop()\n",
    "        b = self.best_cost\n",
    "        i = 0\n",
    "        start = time.time()\n",
    "        while i < self.iteration_limit:\n",
    "            i += 1\n",
    "            self.copy()\n",
    "            self.select()\n",
    "            if b != self.best_cost:\n",
    "                b = self.best_cost\n",
    "                i = 0\n",
    "        print('Runtime: ', (time.time() - start)/60, 'min')\n",
    "        print('Best answer: ', self.best_s[:-1])\n",
    "        print('Best cost: ', self.best_cost)"
   ]
  },
  {
   "cell_type": "markdown",
   "id": "87dc9c6e",
   "metadata": {},
   "source": [
    "## E-n51-k5 Data Set"
   ]
  },
  {
   "cell_type": "markdown",
   "id": "76eb3d5d",
   "metadata": {},
   "source": [
    "## Test1"
   ]
  },
  {
   "cell_type": "code",
   "execution_count": 36,
   "id": "7f530062",
   "metadata": {},
   "outputs": [
    {
     "name": "stdout",
     "output_type": "stream",
     "text": [
      "Runtime:  7.330989476044973 min\n",
      "Best answer:  [ 1.  8. 44. 25.  7. 28.  2.  4. 37. 36. 30. 50. 39. 47.  1. 14.  6. 17.\n",
      " 51. 35. 22. 21. 29. 33.  1. 13. 12.  3. 23. 32. 27.  9. 49. 24.  1. 48.\n",
      " 19.  5. 18. 38. 16. 11. 40. 31. 10.  1. 34. 46. 45. 43. 20. 41. 42. 26.\n",
      " 15.  1.]\n",
      "Best cost:  714.7841873611636\n"
     ]
    }
   ],
   "source": [
    "immune = Immune(\\\n",
    "        directory = '/media/amirabbas/287935d9-b220-4347-beed-981bb0f7821a/personal/university/6th term/biological computaion/project/Vrp-All/E/E-n51-k5.vrp',\\\n",
    "        start_line = 7, end_line = 58, end_demand_line = 110, end_file = 115, capacity = 160, n_vehicle = 5)\n",
    "immune.play()"
   ]
  },
  {
   "cell_type": "markdown",
   "id": "27b26778",
   "metadata": {},
   "source": [
    "## Test2"
   ]
  },
  {
   "cell_type": "code",
   "execution_count": 37,
   "id": "b5067028",
   "metadata": {},
   "outputs": [
    {
     "name": "stdout",
     "output_type": "stream",
     "text": [
      "Runtime:  4.039527610937754 min\n",
      "Best answer:  [ 1. 21. 17. 31. 40. 45. 41. 42. 13.  1. 47. 39.  3.  2. 28.  9. 44. 26.\n",
      " 14.  1. 15. 25.  8. 27. 29.  4. 10. 50. 34.  6.  1. 48. 18. 16. 46. 11.\n",
      " 35. 51. 22. 30. 36. 37. 32. 23. 33.  1. 49. 24.  7. 19.  5. 20. 43. 38.\n",
      " 12.  1.]\n",
      "Best cost:  812.507555587564\n"
     ]
    }
   ],
   "source": [
    "immune = Immune(\\\n",
    "        directory = '/media/amirabbas/287935d9-b220-4347-beed-981bb0f7821a/personal/university/6th term/biological computaion/project/Vrp-All/E/E-n51-k5.vrp',\\\n",
    "        start_line = 7, end_line = 58, end_demand_line = 110, end_file = 115, capacity = 160, n_vehicle = 5)\n",
    "immune.play()"
   ]
  },
  {
   "cell_type": "markdown",
   "id": "5842b32e",
   "metadata": {},
   "source": [
    "## Test3"
   ]
  },
  {
   "cell_type": "code",
   "execution_count": 38,
   "id": "776fd18b",
   "metadata": {},
   "outputs": [
    {
     "name": "stdout",
     "output_type": "stream",
     "text": [
      "Runtime:  3.336073672771454 min\n",
      "Best answer:  [ 1. 47.  6. 16. 46. 40. 11. 10. 51. 17.  3. 23. 49.  1. 38. 45. 41. 42.\n",
      " 14. 15.  9.  2. 12.  1. 48.  5. 20. 19. 33. 29. 27.  8. 28.  1. 26. 25.\n",
      " 44.  7. 21. 35. 31. 34.  1. 13. 18. 43. 50. 39. 22. 30. 36. 37.  4. 32.\n",
      " 24.  1.]\n",
      "Best cost:  841.523468921067\n"
     ]
    }
   ],
   "source": [
    "immune = Immune(\\\n",
    "        directory = '/media/amirabbas/287935d9-b220-4347-beed-981bb0f7821a/personal/university/6th term/biological computaion/project/Vrp-All/E/E-n51-k5.vrp',\\\n",
    "        start_line = 7, end_line = 58, end_demand_line = 110, end_file = 115, capacity = 160, n_vehicle = 5)\n",
    "immune.play()"
   ]
  },
  {
   "cell_type": "markdown",
   "id": "83fbe328",
   "metadata": {},
   "source": [
    "## Test4"
   ]
  },
  {
   "cell_type": "code",
   "execution_count": 39,
   "id": "69f38e99",
   "metadata": {},
   "outputs": [
    {
     "name": "stdout",
     "output_type": "stream",
     "text": [
      "Runtime:  4.853357863426209 min\n",
      "Best answer:  [ 1. 48. 18. 45. 43. 20. 41. 42. 26.  7.  1. 28. 49.  8.  9.  2. 35.  5.\n",
      " 19.  1. 13. 38. 16. 11. 50. 51. 22. 30. 36. 37.  3. 33.  1. 15. 25. 44.\n",
      " 24. 27. 32. 29. 17. 31. 10. 12. 47.  1. 14. 46. 34. 40.  6. 39. 21.  4.\n",
      " 23.  1.]\n",
      "Best cost:  757.423282923279\n"
     ]
    }
   ],
   "source": [
    "immune = Immune(\\\n",
    "        directory = '/media/amirabbas/287935d9-b220-4347-beed-981bb0f7821a/personal/university/6th term/biological computaion/project/Vrp-All/E/E-n51-k5.vrp',\\\n",
    "        start_line = 7, end_line = 58, end_demand_line = 110, end_file = 115, capacity = 160, n_vehicle = 5)\n",
    "immune.play()"
   ]
  },
  {
   "cell_type": "markdown",
   "id": "0cdaa33b",
   "metadata": {},
   "source": [
    "## Test5"
   ]
  },
  {
   "cell_type": "code",
   "execution_count": 40,
   "id": "e01dfecb",
   "metadata": {},
   "outputs": [
    {
     "name": "stdout",
     "output_type": "stream",
     "text": [
      "Runtime:  3.6749087810516357 min\n",
      "Best answer:  [ 1. 47. 34. 11. 51. 36. 37.  9. 24. 25. 26.  7.  1. 13. 19.  5. 45. 38.\n",
      "  6.  3.  1. 28.  8. 44. 15. 14. 42. 41. 20. 43. 46.  1. 49. 27. 32. 29.\n",
      " 21. 22. 31. 17. 12. 33.  1.  2. 23.  4. 30. 35. 10. 39. 50. 40. 16. 18.\n",
      " 48.  1.]\n",
      "Best cost:  768.1907977535595\n"
     ]
    }
   ],
   "source": [
    "immune = Immune(\\\n",
    "        directory = '/media/amirabbas/287935d9-b220-4347-beed-981bb0f7821a/personal/university/6th term/biological computaion/project/Vrp-All/E/E-n51-k5.vrp',\\\n",
    "        start_line = 7, end_line = 58, end_demand_line = 110, end_file = 115, capacity = 160, n_vehicle = 5)\n",
    "immune.play()"
   ]
  },
  {
   "cell_type": "markdown",
   "id": "7ff76a9b",
   "metadata": {},
   "source": [
    "## E-n101-k8 Data Set"
   ]
  },
  {
   "cell_type": "markdown",
   "id": "bb68472b",
   "metadata": {},
   "source": [
    "## Test1"
   ]
  },
  {
   "cell_type": "code",
   "execution_count": 33,
   "id": "e84a3a39",
   "metadata": {},
   "outputs": [
    {
     "name": "stdout",
     "output_type": "stream",
     "text": [
      "Runtime:  9.712151718139648 min\n",
      "Best answer:  [  1.  29.  77.  78.   4.  80.  79.  72.  67.  66.  36.  82.  34.  51.\n",
      "   1.  90.  61.  84.   9.  47.  46.  18.  85.   6.  60.  96.  95.   1.\n",
      "  14.  58.  16.  44.  87.  17.  62.  86.  94. 100.  97.   7.   1.  32.\n",
      "  11.  33.  91.  64.  63.  89.   2.  69.  81.  13.   1.  73.  76.  57.\n",
      "  24.  68.  40.  26.  56.   5.  75.  23.  42.   3.   1.  54.  59.  41.\n",
      "  22.  74.  88.  43.  15.  39.  45.  92. 101.  99.  38.  93.  98.   1.\n",
      "  27.  55.  25.  30.  35.  10.  52.  21.  31.  71.  70.  28.   1.  53.\n",
      "   8.  20.  12.  65.  50.  37.  48.  49.  83.  19.   1.]\n",
      "Best cost:  918.5313419276305\n"
     ]
    }
   ],
   "source": [
    "immune = Immune(\\\n",
    "        directory = '/media/amirabbas/287935d9-b220-4347-beed-981bb0f7821a/personal/university/6th term/biological computaion/project/Vrp-All/E/E-n101-k8.vrp',\\\n",
    "        start_line = 7, end_line = 108, end_demand_line = 210, end_file = 215, capacity = 200, n_vehicle = 8)\n",
    "immune.play()"
   ]
  },
  {
   "cell_type": "markdown",
   "id": "bd2185a0",
   "metadata": {},
   "source": [
    "## Test2"
   ]
  },
  {
   "cell_type": "code",
   "execution_count": 41,
   "id": "0b47bd00",
   "metadata": {},
   "outputs": [
    {
     "name": "stdout",
     "output_type": "stream",
     "text": [
      "Runtime:  14.49408462047577 min\n",
      "Best answer:  [  1.  19.  83.   8.  89.  32.   2.  69.  81.  25.  30.  78.  77.  29.\n",
      "   1.  95.  99.  38. 101.  39.  87.  92.  86.  94. 100.  97.   1.  10.\n",
      "  36.  72.  66.  67.  21.  33.  12.  20.  37.  47.   9.  84.  61.  90.\n",
      "   1.   7.  62.  17.  45.  15.  43.  44.  16.  42.  57.  24.  68.  40.\n",
      "  26.  56.   1.  79.  35.  80.   4.  13.  22.  74.  75.  76.  23.   3.\n",
      "  58.  88.  14.   1.  28.  70.  71.  11.  63.  50.  65.  64.  91.  31.\n",
      "  52.  82.  34.  51.   1.  53.  49.  48.  46.  18.  85.   6.  60.  93.\n",
      "  98.  96.   1.  27.  55.   5.  73.  41.  59.  54.   1.]\n",
      "Best cost:  1004.7069723718977\n"
     ]
    }
   ],
   "source": [
    "immune = Immune(\\\n",
    "        directory = '/media/amirabbas/287935d9-b220-4347-beed-981bb0f7821a/personal/university/6th term/biological computaion/project/Vrp-All/E/E-n101-k8.vrp',\\\n",
    "        start_line = 7, end_line = 108, end_demand_line = 210, end_file = 215, capacity = 200, n_vehicle = 8)\n",
    "immune.play()"
   ]
  },
  {
   "cell_type": "markdown",
   "id": "1b6a9221",
   "metadata": {},
   "source": [
    "## Test3"
   ]
  },
  {
   "cell_type": "code",
   "execution_count": 42,
   "id": "ef641c7d",
   "metadata": {},
   "outputs": [
    {
     "name": "stdout",
     "output_type": "stream",
     "text": [
      "Runtime:  8.269693970680237 min\n",
      "Best answer:  [  1.  54.  41.  74.  73.  79.  82.  34.  29.  95.  96.  58.  16.  44.\n",
      "  43.   1.  53.   8.  83.  49.  48.  20.  12.  11.  32.   1.  27.  13.\n",
      "  55.   5.  26.  56.  25.  30.  35.  36.  10.  51.  46.  18.  85.   6.\n",
      "  61.   1.  93.  99.  38.  15.  39.  45.  92.  86.  94. 100.  66.  72.\n",
      "  77.   1.  52.  67.  21.  71.  90.   7.  98.  60.  62.  84.  65.  50.\n",
      "  37.  47.   9.  19.   1.  78.   4.  80.  69.  81.  88. 101.  87.  17.\n",
      "  97.   1.  28.  70.   2.  31.  33.  91.  64.  63.  89.   1.  14.   3.\n",
      "  42.  23.  75.  76.  24.  68.  40.  57.  22.  59.   1.]\n",
      "Best cost:  1220.0810146618462\n"
     ]
    }
   ],
   "source": [
    "immune = Immune(\\\n",
    "        directory = '/media/amirabbas/287935d9-b220-4347-beed-981bb0f7821a/personal/university/6th term/biological computaion/project/Vrp-All/E/E-n101-k8.vrp',\\\n",
    "        start_line = 7, end_line = 108, end_demand_line = 210, end_file = 215, capacity = 200, n_vehicle = 8)\n",
    "immune.play()"
   ]
  },
  {
   "cell_type": "markdown",
   "id": "5e8a27e5",
   "metadata": {},
   "source": [
    "## Test4"
   ]
  },
  {
   "cell_type": "code",
   "execution_count": 43,
   "id": "1ee1a2a3",
   "metadata": {},
   "outputs": [
    {
     "name": "stdout",
     "output_type": "stream",
     "text": [
      "Runtime:  12.81115002632141 min\n",
      "Best answer:  [  1.  28.  70.  52.  10.  82.  34.  51.   1.   7. 100.  86.  62.   6.\n",
      "  61.  19.   8.  89.  71.  31.  67.  21.   2.   1.  27.   5.  40.  56.\n",
      "  25.  30.  35.  36.  66.  72.  79.  80.  78.  29.   1.  53.  11.  63.\n",
      "  12.  65.  50.  37.  47.  46.  18.  85.  99.  93.  98.  22.  74.  58.\n",
      "  16.  43.   1.  32.  33.  91.  64.  20.  48.  49.  83.   9.  84.  90.\n",
      "   1.  97.  92.  39.  15. 101.  38.  88.  75.  73.  81.  69.   4.  77.\n",
      "   1.  95.  96.  14.   3.  42.  23.  76.  24.  57.  41.  59.  54.   1.\n",
      "  13.  55.  26.  68.  44.  45.  87.  17.  94.  60.   1.]\n",
      "Best cost:  1091.2710886042316\n"
     ]
    }
   ],
   "source": [
    "immune = Immune(\\\n",
    "        directory = '/media/amirabbas/287935d9-b220-4347-beed-981bb0f7821a/personal/university/6th term/biological computaion/project/Vrp-All/E/E-n101-k8.vrp',\\\n",
    "        start_line = 7, end_line = 108, end_demand_line = 210, end_file = 215, capacity = 200, n_vehicle = 8)\n",
    "immune.play()"
   ]
  },
  {
   "cell_type": "markdown",
   "id": "c2e082d7",
   "metadata": {},
   "source": [
    "## Test5"
   ]
  },
  {
   "cell_type": "code",
   "execution_count": 44,
   "id": "55f4d705",
   "metadata": {},
   "outputs": [
    {
     "name": "stdout",
     "output_type": "stream",
     "text": [
      "Runtime:  8.323703189690908 min\n",
      "Best answer:  [  1.  28.  70.  71.  31.  51.   7. 100.  94.  97.   1.   8.  83.  49.\n",
      "  48.  50.  37.  47.   9.  14.  74.  22.  41.  54.   1.  95.  60.  99.\n",
      "  38. 101.  92.  86.   6.  18.  46.  84.  19.   1.  73.  75.  23.  42.\n",
      "  76.  68.   5.  96.  93.  98.  88.  44.  16.  58.   1.  27.  55.  25.\n",
      "  30.  10.  52.  21.  67.  66.  35.  79.  80.  77.  29.   1.  78.   4.\n",
      "   2.  32.  11.  33.  91.  64.  65.  12.  20.  63.  89.  53.   1.  59.\n",
      "   3.  43.  15.  45.  39.  87.  17.  62.  85.  61.  90.   1.  13.  56.\n",
      "  26.  40.  24.  57.  81.  69.  36.  72.  82.  34.   1.]\n",
      "Best cost:  1083.9617623363058\n"
     ]
    }
   ],
   "source": [
    "immune = Immune(\\\n",
    "        directory = '/media/amirabbas/287935d9-b220-4347-beed-981bb0f7821a/personal/university/6th term/biological computaion/project/Vrp-All/E/E-n101-k8.vrp',\\\n",
    "        start_line = 7, end_line = 108, end_demand_line = 210, end_file = 215, capacity = 200, n_vehicle = 8)\n",
    "immune.play()"
   ]
  }
 ],
 "metadata": {
  "kernelspec": {
   "display_name": "Python 3 (ipykernel)",
   "language": "python",
   "name": "python3"
  },
  "language_info": {
   "codemirror_mode": {
    "name": "ipython",
    "version": 3
   },
   "file_extension": ".py",
   "mimetype": "text/x-python",
   "name": "python",
   "nbconvert_exporter": "python",
   "pygments_lexer": "ipython3",
   "version": "3.9.12"
  }
 },
 "nbformat": 4,
 "nbformat_minor": 5
}
