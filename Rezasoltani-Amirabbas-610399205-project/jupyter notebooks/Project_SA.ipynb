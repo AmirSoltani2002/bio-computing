{
 "cells": [
  {
   "cell_type": "markdown",
   "id": "e4bef89e",
   "metadata": {},
   "source": [
    "## Solving CVRP with Simulated Anealing (SA)"
   ]
  },
  {
   "cell_type": "markdown",
   "id": "4849d205",
   "metadata": {},
   "source": [
    "## Importing Packages"
   ]
  },
  {
   "cell_type": "code",
   "execution_count": 3,
   "id": "3e1d4465",
   "metadata": {},
   "outputs": [],
   "source": [
    "import numpy as np\n",
    "import pandas as pd\n",
    "import time"
   ]
  },
  {
   "cell_type": "markdown",
   "id": "c12a1176",
   "metadata": {},
   "source": [
    "## SA Class to Perform Simulated Anealing Algorithm "
   ]
  },
  {
   "cell_type": "code",
   "execution_count": 6,
   "id": "ef85dca5",
   "metadata": {},
   "outputs": [],
   "source": [
    "#This class, consists of every operation and attribute related to SA algorithm\n",
    "class SA:\n",
    "    #cooling rate\n",
    "    alpha = 0.99\n",
    "    #initial tempreture\n",
    "    t_init = 5000 \n",
    "    #number of iterations per tempreture\n",
    "    n_iter = 5 \n",
    "    #capacity of vehicle\n",
    "    capacity = 0\n",
    "    #number of vehicles\n",
    "    n_vehicle = 0\n",
    "    #probability of performing move operation to find neighbor\n",
    "    q_method = 0.2 \n",
    "    #limit of tempreture\n",
    "    limit = 10\n",
    "    #best overall solution\n",
    "    best_s = np.array([]) \n",
    "    #best overall cost\n",
    "    best_cost = 0 \n",
    "    #number of candidates customers in finding neighbors\n",
    "    neighbor_candidates = 5 \n",
    "    #Array of Answer\n",
    "    pop = np.array([]) \n",
    "    #List of costs in every iteration\n",
    "    energy_list = np.array([])\n",
    "    \n",
    "    # Reading data and initilizing variables\n",
    "    def __init__(self, directory, start_line, end_line, end_demand_line, end_file, capacity, n_vehicle):\n",
    "        '''\n",
    "            directory: directory of file\n",
    "            start_line: number of line to start reading location of customers\n",
    "            end_line: number of line to finith reading location of customers\n",
    "            end_demand_line: number of line to finith reading demand of customers\n",
    "            end_file: line of EOF\n",
    "            capacity: capacity of each vehicle\n",
    "            n_vehicle: number of vehicles\n",
    "        '''\n",
    "        self.data = pd.read_csv(directory, sep = ' ', skipinitialspace = True, names = ['CUST', 'X', 'Y'],\\\n",
    "                                index_col = 'CUST',  skiprows = lambda x: x in range(start_line) or\\\n",
    "                                x in range(end_line, end_file))\n",
    "        demand = pd.read_csv(directory, sep = ' ', skipinitialspace = True, names = ['CUST', 'D'],\\\n",
    "                             index_col = 'CUST',  skiprows = lambda x: x in range(end_line + 1) or\\\n",
    "                             x in range(end_demand_line, end_file))\n",
    "        self.data = self.data.merge(right = demand, on = 'CUST')\n",
    "        self.best_cost = self.energy(self.best_s)\n",
    "        self.n_vehicle = n_vehicle\n",
    "        self.capacity = capacity\n",
    "    \n",
    "    #Init answer array\n",
    "    def init_pop(self):\n",
    "        checked = [0 for i in range(self.data.shape[0])]\n",
    "        first_row = self.data.loc[1].to_frame().T\n",
    "        self.data = self.data.loc[np.random.permutation(np.arange(2, self.data.shape[0]+1))]\n",
    "        self.data = pd.concat([first_row, self.data], ignore_index = False)\n",
    "        for j in range(self.n_vehicle):\n",
    "            c = 0\n",
    "            for i in range(self.data.shape[0]):\n",
    "                if ((self.data.iloc[i]['D'] + c) <= self.capacity) and (checked[i] == 0 or i == 0):\n",
    "                    c += self.data.iloc[i]['D']\n",
    "                    self.pop = np.append(self.pop, int(self.data.iloc[i].name))\n",
    "                    checked[i] = 1\n",
    "        self.pop = np.append(self.pop, 1)\n",
    "        self.data.index.names = ['CUST']\n",
    "    \n",
    "    #Check capacity constraint, returns True if constraints are observed\n",
    "    def check_cap(self, array):\n",
    "        '''\n",
    "            array: array of answer, pass to function to be checked for capacity constraint\n",
    "        '''\n",
    "        c = 0\n",
    "        for i in range(len(array)):\n",
    "            if array[i] == 1:\n",
    "                c = 0\n",
    "            else:\n",
    "                c += self.data.loc[array[i], 'D']\n",
    "            if c > self.capacity:\n",
    "                return False\n",
    "        return True\n",
    "    \n",
    "    #Move operation to find neighbor and returns this neighbor\n",
    "    def move(self, array):\n",
    "        '''\n",
    "            array: array of answer, pass to function to find neighbor around it\n",
    "        '''\n",
    "        dis = self.find_dis(array)\n",
    "        dis.sort_values('dis', inplace = True)\n",
    "        dis.reset_index(drop = True, inplace = True)\n",
    "        best = dis.loc[:self.neighbor_candidates-1, 'CUST']\n",
    "        random_cities = np.random.choice(np.arange(2, self.data.shape[0]), self.neighbor_candidates,\\\n",
    "                                         replace = False)\n",
    "        while random_cities[np.isin(random_cities, best)].size != 0:\n",
    "            random_cities = np.random.choice(np.arange(2, self.data.shape[0]), self.neighbor_candidates,\\\n",
    "                                             replace = False)\n",
    "        i = 0\n",
    "        while i < random_cities.shape[0]:\n",
    "            new = array[array != random_cities[i]]\n",
    "            idx = np.random.randint(1, len(array)-1, 1)\n",
    "            new = np.insert(new, idx, random_cities[i])\n",
    "            if self.check_cap(new):\n",
    "                array = new\n",
    "                i += 1\n",
    "        return array\n",
    "    \n",
    "    #Highest operation to find neighbor and returns this neighbor\n",
    "    def highest(self, array):\n",
    "        '''\n",
    "            array: array of answer, pass to function to find neighbor around it\n",
    "        '''\n",
    "        dis = self.find_dis(array)\n",
    "        left = dis.iloc[:-1].reset_index(drop = True)\n",
    "        right = dis.iloc[1:].reset_index(drop = True)\n",
    "        left['m'] = (left['dis'] + right['dis']) / 2\n",
    "        left = left[left['CUST'] != 1]\n",
    "        left.sort_values('m', ascending = False, inplace = True)\n",
    "        left.reset_index(drop = True, inplace = True)\n",
    "        cities = left.loc[:self.neighbor_candidates-1, 'CUST']\n",
    "        i = 0\n",
    "        j = 0\n",
    "        while i < self.neighbor_candidates:\n",
    "            new = array[array != cities[i]]\n",
    "            idx = np.random.randint(1, len(array)-1, 1)\n",
    "            new = np.insert(new, idx, cities[i])\n",
    "            if self.check_cap(new):\n",
    "                if j == 0 or self.energy(new) < self.energy(array):\n",
    "                    array = new\n",
    "                j += 1\n",
    "                if j > (self.neighbor_candidates - 1) :\n",
    "                    j = 0\n",
    "                    i += 1\n",
    "        return array\n",
    "            \n",
    "    \n",
    "    #Using move operation and highest operation to find neighbors and returns this neighbor\n",
    "    def find_neighbor(self, arr):\n",
    "        '''\n",
    "            array: array of answer, pass to function to find neighbor around it\n",
    "        '''\n",
    "        if np.random.uniform(0, 1) <= self.q_method:\n",
    "            arr = self.move(arr)\n",
    "            return arr\n",
    "        arr = self.highest(arr)\n",
    "        return arr\n",
    "    \n",
    "    \n",
    "    #Find distance every 2 consecutive cities in a rout and return this distance concated to destination\n",
    "    def find_dis(self, array):\n",
    "        '''\n",
    "            array: array of answer, pass to function to the distances in consecutive cities\n",
    "        '''\n",
    "        positions1 = self.data.loc[array[:-1], ['X', 'Y']].reset_index()\n",
    "        positions2 = self.data.loc[array[1:], ['X', 'Y']].reset_index()\n",
    "        positions2['dis'] = np.sqrt((positions1['X'] - positions2['X']) ** 2 +\\\n",
    "                                    (positions1['Y'] - positions2['Y']) ** 2)\n",
    "        return positions2\n",
    "    \n",
    "    #Cost function\n",
    "    def energy(self, array):\n",
    "        '''\n",
    "            array: array of answer, pass to function to calculate its cost\n",
    "        '''\n",
    "        return np.sum(self.find_dis(array)['dis'])\n",
    "    \n",
    "    #Function to combine all steps and calculate the optimal answer along with its cost\n",
    "    def play(self):\n",
    "        temp = self.t_init\n",
    "        self.init_pop()\n",
    "        energy = self.energy(self.pop)\n",
    "        self.best_cost = energy\n",
    "        self.best_s = self.pop\n",
    "        start = time.time()\n",
    "        while temp > self.limit:\n",
    "            for i in range(int(self.n_iter)):\n",
    "                neighbor = self.find_neighbor(self.pop)\n",
    "                if(self.energy(neighbor) < energy):\n",
    "                    self.pop = neighbor\n",
    "                    energy = self.energy(self.pop)\n",
    "                else:\n",
    "                    d_energy = energy - self.energy(neighbor)\n",
    "                    if(np.random.uniform(0, 1) < np.exp(d_energy / temp) and (d_energy > (-0.5 * energy))):\n",
    "                        self.pop = neighbor\n",
    "                        energy = self.energy(self.pop)\n",
    "                if energy<self.best_cost or self.best_cost == 0:\n",
    "                    self.best_s = self.pop\n",
    "                    self.best_cost = energy\n",
    "            temp *= self.alpha\n",
    "        print('Runtime: ', (time.time() - start)/60, 'min')\n",
    "        print('Best answer: ', self.best_s)\n",
    "        print('Best cost: ', self.best_cost)\n",
    "        \n",
    "\n",
    "    \n",
    "    \n",
    "        \n",
    "    "
   ]
  },
  {
   "cell_type": "markdown",
   "id": "9bab2b8e",
   "metadata": {},
   "source": [
    "## E-n51-k5 Data Set"
   ]
  },
  {
   "cell_type": "markdown",
   "id": "5b8afb46",
   "metadata": {},
   "source": [
    "## Test1"
   ]
  },
  {
   "cell_type": "code",
   "execution_count": 15,
   "id": "0cd209c3",
   "metadata": {},
   "outputs": [
    {
     "name": "stdout",
     "output_type": "stream",
     "text": [
      "Runtime:  8.859964815775554 min\n",
      "Best answer:  [ 1. 28. 24.  8. 44. 25. 19. 26.  7.  1. 48. 38. 45. 16. 46. 18.  5. 14.\n",
      " 15. 49.  1. 39. 50. 40. 11. 34. 43. 20. 42. 41. 13.  1. 33. 32. 29. 37.\n",
      " 36. 21.  4. 22. 35.  6.  1. 47. 10. 51. 31. 17. 30.  3. 23. 27.  9.  2.\n",
      " 12.  1.]\n",
      "Best cost:  701.7119310893696\n"
     ]
    }
   ],
   "source": [
    "sa = SA(\\\n",
    "        directory = '/media/amirabbas/287935d9-b220-4347-beed-981bb0f7821a/personal/university/6th term/biological computaion/project/Vrp-All/E/E-n51-k5.vrp',\\\n",
    "        start_line = 7, end_line = 58, end_demand_line = 110, end_file = 115, capacity = 160, n_vehicle = 5)\n",
    "sa.play()"
   ]
  },
  {
   "cell_type": "markdown",
   "id": "eea08271",
   "metadata": {},
   "source": [
    "## Test2"
   ]
  },
  {
   "cell_type": "code",
   "execution_count": 16,
   "id": "a17cb43a",
   "metadata": {},
   "outputs": [
    {
     "name": "stdout",
     "output_type": "stream",
     "text": [
      "Runtime:  8.758769631385803 min\n",
      "Best answer:  [ 1. 33. 47.  6. 39.  3. 12. 11. 31. 50. 10.  1.  7. 26.  5. 18. 38. 40.\n",
      " 46. 16. 43. 45. 48.  1. 28. 44.  8. 27. 32. 23. 29.  4. 37. 36. 21.  1.\n",
      " 13. 19. 14. 42. 41. 20. 34.  1. 15. 25. 49. 24.  9.  2. 30. 22. 17. 35.\n",
      " 51.  1.]\n",
      "Best cost:  764.5595870622635\n"
     ]
    }
   ],
   "source": [
    "sa = SA(\\\n",
    "        directory = '/media/amirabbas/287935d9-b220-4347-beed-981bb0f7821a/personal/university/6th term/biological computaion/project/Vrp-All/E/E-n51-k5.vrp',\\\n",
    "        start_line = 7, end_line = 58, end_demand_line = 110, end_file = 115, capacity = 160, n_vehicle = 5)\n",
    "sa.play()"
   ]
  },
  {
   "cell_type": "markdown",
   "id": "f27bdabf",
   "metadata": {},
   "source": [
    "## Test3"
   ]
  },
  {
   "cell_type": "code",
   "execution_count": 17,
   "id": "95956f7a",
   "metadata": {},
   "outputs": [
    {
     "name": "stdout",
     "output_type": "stream",
     "text": [
      "Runtime:  8.42318510611852 min\n",
      "Best answer:  [ 1. 47.  6. 50. 10. 40. 11. 16. 39.  3. 36.  1. 28.  2. 22. 30. 37.  4.\n",
      " 32. 29. 17. 35. 51. 12.  1. 48. 18.  5. 19.  7. 49. 33. 21. 23.  1. 13.\n",
      " 15.  8. 27.  9. 31. 34. 46. 38.  1. 45. 43. 20. 41. 42. 14. 26. 25. 44.\n",
      " 24.  1.]\n",
      "Best cost:  802.3626244805092\n"
     ]
    }
   ],
   "source": [
    "sa = SA(\\\n",
    "        directory = '/media/amirabbas/287935d9-b220-4347-beed-981bb0f7821a/personal/university/6th term/biological computaion/project/Vrp-All/E/E-n51-k5.vrp',\\\n",
    "        start_line = 7, end_line = 58, end_demand_line = 110, end_file = 115, capacity = 160, n_vehicle = 5)\n",
    "sa.play()"
   ]
  },
  {
   "cell_type": "markdown",
   "id": "a03b9ee7",
   "metadata": {},
   "source": [
    "## Test4"
   ]
  },
  {
   "cell_type": "code",
   "execution_count": 18,
   "id": "18f47ed0",
   "metadata": {},
   "outputs": [
    {
     "name": "stdout",
     "output_type": "stream",
     "text": [
      "Runtime:  8.575920073191325 min\n",
      "Best answer:  [ 1. 14. 42. 20. 41. 43. 46. 11. 40. 50. 39. 17.  1. 19. 38. 34. 16. 45.\n",
      "  5. 18.  7. 49. 28.  1. 26. 13.  6. 10. 31. 35. 22. 30. 51.  1. 47. 33.\n",
      "  3. 12.  2. 24. 44. 25.  8.  9. 23.  1. 48. 15. 27. 32. 29.  4. 21. 37.\n",
      " 36.  1.]\n",
      "Best cost:  752.6709551167322\n"
     ]
    }
   ],
   "source": [
    "sa = SA(\\\n",
    "        directory = '/media/amirabbas/287935d9-b220-4347-beed-981bb0f7821a/personal/university/6th term/biological computaion/project/Vrp-All/E/E-n51-k5.vrp',\\\n",
    "        start_line = 7, end_line = 58, end_demand_line = 110, end_file = 115, capacity = 160, n_vehicle = 5)\n",
    "sa.play()"
   ]
  },
  {
   "cell_type": "markdown",
   "id": "f910161c",
   "metadata": {},
   "source": [
    "## Test5"
   ]
  },
  {
   "cell_type": "code",
   "execution_count": 19,
   "id": "7bd2537e",
   "metadata": {},
   "outputs": [
    {
     "name": "stdout",
     "output_type": "stream",
     "text": [
      "Runtime:  8.6216139793396 min\n",
      "Best answer:  [ 1. 19. 42.  5. 50.  3. 23. 12.  1.  7. 27. 44. 25. 15. 14. 20. 41. 43.\n",
      " 13. 47.  1. 48. 38. 18. 10. 31. 35. 30. 22. 37. 36. 21.  1. 26. 24.  8.\n",
      " 49. 28.  9. 32. 29.  4.  1.  6. 45. 16. 46. 34. 40. 11. 51. 39. 17. 33.\n",
      "  2.  1.]\n",
      "Best cost:  759.211177635011\n"
     ]
    }
   ],
   "source": [
    "sa = SA(\\\n",
    "        directory = '/media/amirabbas/287935d9-b220-4347-beed-981bb0f7821a/personal/university/6th term/biological computaion/project/Vrp-All/E/E-n51-k5.vrp',\\\n",
    "        start_line = 7, end_line = 58, end_demand_line = 110, end_file = 115, capacity = 160, n_vehicle = 5)\n",
    "sa.play()"
   ]
  },
  {
   "cell_type": "markdown",
   "id": "3dc9bb94",
   "metadata": {},
   "source": [
    "## E-n101-k8 Data Set"
   ]
  },
  {
   "cell_type": "markdown",
   "id": "98204981",
   "metadata": {},
   "source": [
    "## Test1"
   ]
  },
  {
   "cell_type": "code",
   "execution_count": 7,
   "id": "c90db6b6",
   "metadata": {
    "scrolled": true
   },
   "outputs": [
    {
     "name": "stdout",
     "output_type": "stream",
     "text": [
      "Runtime:  11.732148325443267 min\n",
      "Best answer:  [  1.  38.  94. 100.  62.  17.  87.  45.  86.  88.   3.   1.  53.  61.\n",
      "  95.  41.  73.  75.  24.  76.  56.  26.  55.  13.  77.  78.   1.  96.\n",
      "   7.  84.   6.  18.  85.  46.  83.  49.   9.  19.  28.  29.   2.   1.\n",
      "   5.  68.  40.  57.  23.  42.  22.  74.  54.   1.  47.  37.  65.  50.\n",
      "  48.  20.  12.  64.  63.  89.   8.   1.  27.  81.  79.  69.  30.  25.\n",
      "  80.  35.  36.  66.  72.  52.  21.  31.  70.   1.  51.   4.  10.  34.\n",
      "  82.  67.  91.  33.  71.  32.  11.   1.  14.  59.  58.  43.  16.  44.\n",
      "  39.  15.  97.  90.  99.  98.  92. 101.  93.  60.   1.]\n",
      "Best cost:  1191.149016739995\n"
     ]
    }
   ],
   "source": [
    "sa = SA(\\\n",
    "        directory = '/media/amirabbas/287935d9-b220-4347-beed-981bb0f7821a/personal/university/6th term/biological computaion/project/Vrp-All/E/E-n101-k8.vrp',\\\n",
    "        start_line = 7, end_line = 108, end_demand_line = 210, end_file = 215, capacity = 200, n_vehicle = 8)\n",
    "sa.play()"
   ]
  },
  {
   "cell_type": "markdown",
   "id": "1d470ed4",
   "metadata": {},
   "source": [
    "## Test2"
   ]
  },
  {
   "cell_type": "code",
   "execution_count": 20,
   "id": "3355618c",
   "metadata": {},
   "outputs": [
    {
     "name": "stdout",
     "output_type": "stream",
     "text": [
      "Runtime:  11.9213796377182 min\n",
      "Best answer:  [  1.  77.  51.  70.   2.  71.  52.  72.  36.  35.  82.  79.  80.  78.\n",
      "  34.  30.   4.   1.  90.  96.   7.  19.  84.   6.  45.  44. 101.  16.\n",
      "  98.  95.   1.   3.  23.  42.  24.  68.  40.  26.  56.  69.  81.  25.\n",
      "  27.  54.   1.  28.  11.  91.  12.  89.  31.  21.  33.  64.  65.  50.\n",
      "  37.  20.  63.   1.  99.  38.  93.  92.  43.  15.  94.  61.  85.  47.\n",
      "  83.  48.  49.  53.   8.  32.   1.  55.   5.  74.  76.  58.  59.  41.\n",
      "  73.  75.  57.  22.  14.  88.   1.  13.  66.  67.  10.  29.   1.  60.\n",
      "  62.  86.  17.  39.  87.  18.  97. 100.  46.   9.   1.]\n",
      "Best cost:  1270.4869546991458\n"
     ]
    }
   ],
   "source": [
    "sa = SA(\\\n",
    "        directory = '/media/amirabbas/287935d9-b220-4347-beed-981bb0f7821a/personal/university/6th term/biological computaion/project/Vrp-All/E/E-n101-k8.vrp',\\\n",
    "        start_line = 7, end_line = 108, end_demand_line = 210, end_file = 215, capacity = 200, n_vehicle = 8)\n",
    "sa.play()"
   ]
  },
  {
   "cell_type": "markdown",
   "id": "5a308e2f",
   "metadata": {},
   "source": [
    "## Test3"
   ]
  },
  {
   "cell_type": "code",
   "execution_count": 21,
   "id": "bd817996",
   "metadata": {},
   "outputs": [
    {
     "name": "stdout",
     "output_type": "stream",
     "text": [
      "Runtime:  11.557971612612407 min\n",
      "Best answer:  [  1.   8.  49.  50.  37.  20.  48.  63.  32.  64.  65.  12.   1.  13.\n",
      "  55.  25.   5.  73.  23.  87.   1.  77.   4.  82.  10.  66.  67.  33.\n",
      "   1.  51.  69.  81.  79.  72.  35.  36.  52.  21.  34.   2.  31.  11.\n",
      "  91.  89.  71.  53.   1.  59.  92.  94.  84.  97.  58.   3.  41.  22.\n",
      "  27.  80.  30.  78.  70.  29.  28.   1.  90.   7.  19.  83.  47.  18.\n",
      "  61. 100.  88.  98.  96.  17.  85.   6.  46.   9.   1.  95.  38.  99.\n",
      "  44.  43.  45.  39.  15. 101.  86.  62.  93.  54.   1.  74.  57.  26.\n",
      "  56.  68.  40.  24.  75.  76.  42.  16.  60.  14.   1.]\n",
      "Best cost:  1338.2229810307388\n"
     ]
    }
   ],
   "source": [
    "sa = SA(\\\n",
    "        directory = '/media/amirabbas/287935d9-b220-4347-beed-981bb0f7821a/personal/university/6th term/biological computaion/project/Vrp-All/E/E-n101-k8.vrp',\\\n",
    "        start_line = 7, end_line = 108, end_demand_line = 210, end_file = 215, capacity = 200, n_vehicle = 8)\n",
    "sa.play()"
   ]
  },
  {
   "cell_type": "markdown",
   "id": "b8c6eee7",
   "metadata": {},
   "source": [
    "## Test4"
   ]
  },
  {
   "cell_type": "code",
   "execution_count": 22,
   "id": "63af8d49",
   "metadata": {},
   "outputs": [
    {
     "name": "stdout",
     "output_type": "stream",
     "text": [
      "Runtime:  11.880941847960154 min\n",
      "Best answer:  [  1.  98.  58.   3.  75.  73.  42.  24.  68.  56.  26.  40.  27.  54.\n",
      "   1.   2.   4.  79.  35.  36.  80.  78.  81.  30.  25.  69.  13.  51.\n",
      "  77.  29.   1.  86.  62.  17.  85.  18.  87.  39.  15.  44.  43.  16.\n",
      "  23.  41.   1.  32.  71.  21.  11.  91.  33.  64.  12.  65.  89.  63.\n",
      "   8.  53.   1.  96.  88.   7.  59.  95.  61.  46.  47.  83.  84.  19.\n",
      "  97. 100.  92.  94.  93.   1.  28.  70.  31.  52.  34.  82.  10.  66.\n",
      "  72.  67.   1.   9.  49.  20.  50.  37.  48.   6.   1.  22.  76.   5.\n",
      "  55.  57.  74.  14.  90.  99.  60.  38.  45. 101.   1.]\n",
      "Best cost:  1208.7467921381276\n"
     ]
    }
   ],
   "source": [
    "sa = SA(\\\n",
    "        directory = '/media/amirabbas/287935d9-b220-4347-beed-981bb0f7821a/personal/university/6th term/biological computaion/project/Vrp-All/E/E-n101-k8.vrp',\\\n",
    "        start_line = 7, end_line = 108, end_demand_line = 210, end_file = 215, capacity = 200, n_vehicle = 8)\n",
    "sa.play()"
   ]
  },
  {
   "cell_type": "markdown",
   "id": "5d1d9846",
   "metadata": {},
   "source": [
    "## Test5"
   ]
  },
  {
   "cell_type": "code",
   "execution_count": 23,
   "id": "1f790227",
   "metadata": {},
   "outputs": [
    {
     "name": "stdout",
     "output_type": "stream",
     "text": [
      "Runtime:  11.708103342851002 min\n",
      "Best answer:  [  1.  98.  96. 100.  15.  39. 101.  92.  99.  84.  97.  14.  58.   3.\n",
      "  43.  16.  44.  42.  75.   1.  90.   6.   9.  46.  47.  48.  83.  49.\n",
      "  20.  11.  63.   1.  61.  94.  19.   7.  59.  28.   2.  71.  89.   8.\n",
      "  53.  70.  77.  13.  81.  69.   1.  74.  22.  57.  68.  26.  56.   5.\n",
      "  40.  25.  55.  76.  73.  23.  41.   1.  85.  18.  62.  86.  87.  45.\n",
      "  17.  38.  93.  60.  88.   1.  65.  50.  37.  12.  64.  91.  33.  67.\n",
      "  21.  10.  52.  31.  32.   1.  95.  24.  27.   1.  82.  34.  80.  30.\n",
      "  78.   4.  72.  66.  36.  35.  79.  51.  54.  29.   1.]\n",
      "Best cost:  1268.3634650385065\n"
     ]
    }
   ],
   "source": [
    "sa = SA(\\\n",
    "        directory = '/media/amirabbas/287935d9-b220-4347-beed-981bb0f7821a/personal/university/6th term/biological computaion/project/Vrp-All/E/E-n101-k8.vrp',\\\n",
    "        start_line = 7, end_line = 108, end_demand_line = 210, end_file = 215, capacity = 200, n_vehicle = 8)\n",
    "sa.play()"
   ]
  }
 ],
 "metadata": {
  "kernelspec": {
   "display_name": "Python 3 (ipykernel)",
   "language": "python",
   "name": "python3"
  },
  "language_info": {
   "codemirror_mode": {
    "name": "ipython",
    "version": 3
   },
   "file_extension": ".py",
   "mimetype": "text/x-python",
   "name": "python",
   "nbconvert_exporter": "python",
   "pygments_lexer": "ipython3",
   "version": "3.9.12"
  }
 },
 "nbformat": 4,
 "nbformat_minor": 5
}
